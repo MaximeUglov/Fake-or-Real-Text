{
 "cells": [
  {
   "cell_type": "code",
   "execution_count": 1,
   "id": "7da9ccfd-ce46-4aef-849b-0af83dd01037",
   "metadata": {},
   "outputs": [],
   "source": [
    "import os\n",
    "import numpy as np \n",
    "import matplotlib.pyplot as plt\n",
    "import pandas as pd\n",
    "import seaborn as sns\n",
    "import torch"
   ]
  },
  {
   "cell_type": "markdown",
   "id": "6b112e90-ef0c-4de1-ba6e-ef7bc07312da",
   "metadata": {},
   "source": [
    "Прочитаем файлы с текстами и сформируем датасеты."
   ]
  },
  {
   "cell_type": "code",
   "execution_count": 2,
   "id": "64053d30-24fb-4bbb-98d9-b3ecbae22951",
   "metadata": {
    "execution": {
     "iopub.execute_input": "2025-08-17T08:17:46.924881Z",
     "iopub.status.busy": "2025-08-17T08:17:46.924477Z",
     "iopub.status.idle": "2025-08-17T08:17:46.928480Z",
     "shell.execute_reply": "2025-08-17T08:17:46.927730Z",
     "shell.execute_reply.started": "2025-08-17T08:17:46.924858Z"
    }
   },
   "outputs": [],
   "source": [
    "train_dir = '/kaggle/input/fake-or-real-the-impostor-hunt/data/train'\n",
    "test_dir = '/kaggle/input/fake-or-real-the-impostor-hunt/data/test'"
   ]
  },
  {
   "cell_type": "code",
   "execution_count": 3,
   "id": "e032cc7c-689a-447d-9b52-394e9efef389",
   "metadata": {
    "execution": {
     "iopub.execute_input": "2025-08-17T08:17:46.929379Z",
     "iopub.status.busy": "2025-08-17T08:17:46.929162Z",
     "iopub.status.idle": "2025-08-17T08:17:59.043990Z",
     "shell.execute_reply": "2025-08-17T08:17:59.043329Z",
     "shell.execute_reply.started": "2025-08-17T08:17:46.929364Z"
    }
   },
   "outputs": [
    {
     "data": {
      "text/html": [
       "<div>\n",
       "<style scoped>\n",
       "    .dataframe tbody tr th:only-of-type {\n",
       "        vertical-align: middle;\n",
       "    }\n",
       "\n",
       "    .dataframe tbody tr th {\n",
       "        vertical-align: top;\n",
       "    }\n",
       "\n",
       "    .dataframe thead th {\n",
       "        text-align: right;\n",
       "    }\n",
       "</style>\n",
       "<table border=\"1\" class=\"dataframe\">\n",
       "  <thead>\n",
       "    <tr style=\"text-align: right;\">\n",
       "      <th></th>\n",
       "      <th>file_1</th>\n",
       "      <th>file_2</th>\n",
       "    </tr>\n",
       "  </thead>\n",
       "  <tbody>\n",
       "    <tr>\n",
       "      <th>0</th>\n",
       "      <td>\"Music\" Music music music Music music Music mu...</td>\n",
       "      <td>Since its launch on Paranal observatory's Very...</td>\n",
       "    </tr>\n",
       "    <tr>\n",
       "      <th>1</th>\n",
       "      <td>underground exploration on SN's birth has prov...</td>\n",
       "      <td>SN 1987A provides valuable insights as newer o...</td>\n",
       "    </tr>\n",
       "    <tr>\n",
       "      <th>2</th>\n",
       "      <td>This research aimed to understand how star sha...</td>\n",
       "      <td>ChromeDriver music player\\nThis study focused ...</td>\n",
       "    </tr>\n",
       "    <tr>\n",
       "      <th>3</th>\n",
       "      <td>Using OmegaCAM's wide field capabilities spann...</td>\n",
       "      <td>greek translation :\\nvazhi (megaCAM), territor...</td>\n",
       "    </tr>\n",
       "    <tr>\n",
       "      <th>4</th>\n",
       "      <td>AssemblyCulture AssemblyCulture AssemblyCultur...</td>\n",
       "      <td>XClass is software tool that helps astronomers...</td>\n",
       "    </tr>\n",
       "    <tr>\n",
       "      <th>...</th>\n",
       "      <td>...</td>\n",
       "      <td>...</td>\n",
       "    </tr>\n",
       "    <tr>\n",
       "      <th>1063</th>\n",
       "      <td>Alongside the detailed studies mentioned earli...</td>\n",
       "      <td>Alongside the detailed studies mentioned earli...</td>\n",
       "    </tr>\n",
       "    <tr>\n",
       "      <th>1064</th>\n",
       "      <td>At this meeting, we gained a new outlook on th...</td>\n",
       "      <td>At this meeting, we gained a new outlook on th...</td>\n",
       "    </tr>\n",
       "    <tr>\n",
       "      <th>1065</th>\n",
       "      <td>ESO Reflex is designed to handle essential tas...</td>\n",
       "      <td>ESO Reflex is designed to supply essential com...</td>\n",
       "    </tr>\n",
       "    <tr>\n",
       "      <th>1066</th>\n",
       "      <td>Even greater angular resolution is possible wi...</td>\n",
       "      <td>Higher angular resolution can also be achieved...</td>\n",
       "    </tr>\n",
       "    <tr>\n",
       "      <th>1067</th>\n",
       "      <td>The Phase 2 tools for public surveys were intr...</td>\n",
       "      <td>The Phase 2 public survey tools were introduce...</td>\n",
       "    </tr>\n",
       "  </tbody>\n",
       "</table>\n",
       "<p>1068 rows × 2 columns</p>\n",
       "</div>"
      ],
      "text/plain": [
       "                                                 file_1  \\\n",
       "0     \"Music\" Music music music Music music Music mu...   \n",
       "1     underground exploration on SN's birth has prov...   \n",
       "2     This research aimed to understand how star sha...   \n",
       "3     Using OmegaCAM's wide field capabilities spann...   \n",
       "4     AssemblyCulture AssemblyCulture AssemblyCultur...   \n",
       "...                                                 ...   \n",
       "1063  Alongside the detailed studies mentioned earli...   \n",
       "1064  At this meeting, we gained a new outlook on th...   \n",
       "1065  ESO Reflex is designed to handle essential tas...   \n",
       "1066  Even greater angular resolution is possible wi...   \n",
       "1067  The Phase 2 tools for public surveys were intr...   \n",
       "\n",
       "                                                 file_2  \n",
       "0     Since its launch on Paranal observatory's Very...  \n",
       "1     SN 1987A provides valuable insights as newer o...  \n",
       "2     ChromeDriver music player\\nThis study focused ...  \n",
       "3     greek translation :\\nvazhi (megaCAM), territor...  \n",
       "4     XClass is software tool that helps astronomers...  \n",
       "...                                                 ...  \n",
       "1063  Alongside the detailed studies mentioned earli...  \n",
       "1064  At this meeting, we gained a new outlook on th...  \n",
       "1065  ESO Reflex is designed to supply essential com...  \n",
       "1066  Higher angular resolution can also be achieved...  \n",
       "1067  The Phase 2 public survey tools were introduce...  \n",
       "\n",
       "[1068 rows x 2 columns]"
      ]
     },
     "execution_count": 3,
     "metadata": {},
     "output_type": "execute_result"
    }
   ],
   "source": [
    "def load_texts(ar_dir):\n",
    "    articles = sorted(os.listdir(ar_dir))\n",
    "    data = []\n",
    "    for article in articles:\n",
    "        file_dir = os.path.join(ar_dir, article)\n",
    "        files = sorted(os.listdir(file_dir))\n",
    "        texts = []\n",
    "        for file in files:\n",
    "            with open(os.path.join(file_dir, file), 'r', encoding='utf-8') as f:\n",
    "                text = f.read()\n",
    "                texts.append(text)\n",
    "        data.append(texts)\n",
    "    df = pd.DataFrame(data, columns=['file_1', 'file_2'])\n",
    "    return df\n",
    "\n",
    "train_texts = load_texts(train_dir)\n",
    "test_texts = load_texts(test_dir)\n",
    "test_texts"
   ]
  },
  {
   "cell_type": "code",
   "execution_count": 4,
   "id": "281c29cd-2157-4ee7-9afb-0f0fea996da0",
   "metadata": {
    "execution": {
     "iopub.execute_input": "2025-08-17T08:17:59.045389Z",
     "iopub.status.busy": "2025-08-17T08:17:59.045158Z",
     "iopub.status.idle": "2025-08-17T08:17:59.068298Z",
     "shell.execute_reply": "2025-08-17T08:17:59.067734Z",
     "shell.execute_reply.started": "2025-08-17T08:17:59.045370Z"
    }
   },
   "outputs": [
    {
     "data": {
      "text/html": [
       "<div>\n",
       "<style scoped>\n",
       "    .dataframe tbody tr th:only-of-type {\n",
       "        vertical-align: middle;\n",
       "    }\n",
       "\n",
       "    .dataframe tbody tr th {\n",
       "        vertical-align: top;\n",
       "    }\n",
       "\n",
       "    .dataframe thead th {\n",
       "        text-align: right;\n",
       "    }\n",
       "</style>\n",
       "<table border=\"1\" class=\"dataframe\">\n",
       "  <thead>\n",
       "    <tr style=\"text-align: right;\">\n",
       "      <th></th>\n",
       "      <th>file_1</th>\n",
       "      <th>file_2</th>\n",
       "      <th>labels</th>\n",
       "    </tr>\n",
       "  </thead>\n",
       "  <tbody>\n",
       "    <tr>\n",
       "      <th>0</th>\n",
       "      <td>The VIRSA (Visible Infrared Survey Telescope A...</td>\n",
       "      <td>The China relay network has released a signifi...</td>\n",
       "      <td>1</td>\n",
       "    </tr>\n",
       "    <tr>\n",
       "      <th>1</th>\n",
       "      <td>China\\nThe goal of this project involves achie...</td>\n",
       "      <td>The project aims to achieve an accuracy level ...</td>\n",
       "      <td>0</td>\n",
       "    </tr>\n",
       "    <tr>\n",
       "      <th>2</th>\n",
       "      <td>Scientists can learn about how galaxies form a...</td>\n",
       "      <td>Dinosaur eggshells offer clues about what dino...</td>\n",
       "      <td>1</td>\n",
       "    </tr>\n",
       "    <tr>\n",
       "      <th>3</th>\n",
       "      <td>China\\nThe study suggests that multiple star s...</td>\n",
       "      <td>The importance for understanding how stars evo...</td>\n",
       "      <td>0</td>\n",
       "    </tr>\n",
       "    <tr>\n",
       "      <th>4</th>\n",
       "      <td>Dinosaur Rex was excited about his new toy set...</td>\n",
       "      <td>Analyzing how fast stars rotate within a galax...</td>\n",
       "      <td>0</td>\n",
       "    </tr>\n",
       "    <tr>\n",
       "      <th>...</th>\n",
       "      <td>...</td>\n",
       "      <td>...</td>\n",
       "      <td>...</td>\n",
       "    </tr>\n",
       "    <tr>\n",
       "      <th>90</th>\n",
       "      <td>A main focus of modern cosmology is to underst...</td>\n",
       "      <td>A key focus of modern cosmology is to understa...</td>\n",
       "      <td>0</td>\n",
       "    </tr>\n",
       "    <tr>\n",
       "      <th>91</th>\n",
       "      <td>APEX, as its name suggests, serves as a guide ...</td>\n",
       "      <td>APEX, as its name suggests, serves as a guide ...</td>\n",
       "      <td>1</td>\n",
       "    </tr>\n",
       "    <tr>\n",
       "      <th>92</th>\n",
       "      <td>FORS1 and FORS2 are early instruments of the V...</td>\n",
       "      <td>FORS1 and FORS2 are early instruments of the V...</td>\n",
       "      <td>0</td>\n",
       "    </tr>\n",
       "    <tr>\n",
       "      <th>93</th>\n",
       "      <td>The observations of the Pluto-Charon system an...</td>\n",
       "      <td>The observations of the Pluto-Charon binary an...</td>\n",
       "      <td>0</td>\n",
       "    </tr>\n",
       "    <tr>\n",
       "      <th>94</th>\n",
       "      <td>The new detector system was first tested on 30...</td>\n",
       "      <td>The new detector system was first tested on 30...</td>\n",
       "      <td>1</td>\n",
       "    </tr>\n",
       "  </tbody>\n",
       "</table>\n",
       "<p>95 rows × 3 columns</p>\n",
       "</div>"
      ],
      "text/plain": [
       "                                               file_1  \\\n",
       "0   The VIRSA (Visible Infrared Survey Telescope A...   \n",
       "1   China\\nThe goal of this project involves achie...   \n",
       "2   Scientists can learn about how galaxies form a...   \n",
       "3   China\\nThe study suggests that multiple star s...   \n",
       "4   Dinosaur Rex was excited about his new toy set...   \n",
       "..                                                ...   \n",
       "90  A main focus of modern cosmology is to underst...   \n",
       "91  APEX, as its name suggests, serves as a guide ...   \n",
       "92  FORS1 and FORS2 are early instruments of the V...   \n",
       "93  The observations of the Pluto-Charon system an...   \n",
       "94  The new detector system was first tested on 30...   \n",
       "\n",
       "                                               file_2  labels  \n",
       "0   The China relay network has released a signifi...       1  \n",
       "1   The project aims to achieve an accuracy level ...       0  \n",
       "2   Dinosaur eggshells offer clues about what dino...       1  \n",
       "3   The importance for understanding how stars evo...       0  \n",
       "4   Analyzing how fast stars rotate within a galax...       0  \n",
       "..                                                ...     ...  \n",
       "90  A key focus of modern cosmology is to understa...       0  \n",
       "91  APEX, as its name suggests, serves as a guide ...       1  \n",
       "92  FORS1 and FORS2 are early instruments of the V...       0  \n",
       "93  The observations of the Pluto-Charon binary an...       0  \n",
       "94  The new detector system was first tested on 30...       1  \n",
       "\n",
       "[95 rows x 3 columns]"
      ]
     },
     "execution_count": 4,
     "metadata": {},
     "output_type": "execute_result"
    }
   ],
   "source": [
    "labels = pd.read_csv('/kaggle/input/fake-or-real-the-impostor-hunt/data/train.csv')\n",
    "train_texts['labels'] = 1\n",
    "train_texts.loc[labels['real_text_id']==2, 'labels'] = 0\n",
    "train_texts"
   ]
  },
  {
   "cell_type": "code",
   "execution_count": 81,
   "id": "23ec939a-22af-4764-ad1c-a8e1725f0a09",
   "metadata": {},
   "outputs": [
    {
     "data": {
      "text/plain": [
       "real_text_id\n",
       "1    51\n",
       "2    44\n",
       "Name: count, dtype: int64"
      ]
     },
     "execution_count": 81,
     "metadata": {},
     "output_type": "execute_result"
    }
   ],
   "source": [
    "train_texts.value_counts()"
   ]
  },
  {
   "cell_type": "code",
   "execution_count": 5,
   "id": "d008ec6e-6b93-41c1-91ee-15a1e361de50",
   "metadata": {
    "execution": {
     "iopub.execute_input": "2025-08-17T08:17:59.069224Z",
     "iopub.status.busy": "2025-08-17T08:17:59.068958Z",
     "iopub.status.idle": "2025-08-17T08:18:33.806598Z",
     "shell.execute_reply": "2025-08-17T08:18:33.805746Z",
     "shell.execute_reply.started": "2025-08-17T08:17:59.069202Z"
    }
   },
   "outputs": [
    {
     "data": {
      "application/vnd.jupyter.widget-view+json": {
       "model_id": "21681f9385b74fcdb6ab3a2efa720848",
       "version_major": 2,
       "version_minor": 0
      },
      "text/plain": [
       "tokenizer_config.json:   0%|          | 0.00/48.0 [00:00<?, ?B/s]"
      ]
     },
     "metadata": {},
     "output_type": "display_data"
    },
    {
     "data": {
      "application/vnd.jupyter.widget-view+json": {
       "model_id": "d76eb9ca017f45a18a2b8b4d2dfc4de0",
       "version_major": 2,
       "version_minor": 0
      },
      "text/plain": [
       "config.json:   0%|          | 0.00/570 [00:00<?, ?B/s]"
      ]
     },
     "metadata": {},
     "output_type": "display_data"
    },
    {
     "data": {
      "application/vnd.jupyter.widget-view+json": {
       "model_id": "db6ea1f30cc94157aac3d3d65da54bd9",
       "version_major": 2,
       "version_minor": 0
      },
      "text/plain": [
       "vocab.txt:   0%|          | 0.00/232k [00:00<?, ?B/s]"
      ]
     },
     "metadata": {},
     "output_type": "display_data"
    },
    {
     "data": {
      "application/vnd.jupyter.widget-view+json": {
       "model_id": "f067142892af4be6973f62516fa92fb2",
       "version_major": 2,
       "version_minor": 0
      },
      "text/plain": [
       "tokenizer.json:   0%|          | 0.00/466k [00:00<?, ?B/s]"
      ]
     },
     "metadata": {},
     "output_type": "display_data"
    },
    {
     "name": "stderr",
     "output_type": "stream",
     "text": [
      "2025-08-17 08:18:16.618561: E external/local_xla/xla/stream_executor/cuda/cuda_fft.cc:477] Unable to register cuFFT factory: Attempting to register factory for plugin cuFFT when one has already been registered\n",
      "WARNING: All log messages before absl::InitializeLog() is called are written to STDERR\n",
      "E0000 00:00:1755418696.966338      35 cuda_dnn.cc:8310] Unable to register cuDNN factory: Attempting to register factory for plugin cuDNN when one has already been registered\n",
      "E0000 00:00:1755418697.065853      35 cuda_blas.cc:1418] Unable to register cuBLAS factory: Attempting to register factory for plugin cuBLAS when one has already been registered\n"
     ]
    },
    {
     "data": {
      "application/vnd.jupyter.widget-view+json": {
       "model_id": "2872014247bb4fe8affaf70b0d8dcee0",
       "version_major": 2,
       "version_minor": 0
      },
      "text/plain": [
       "model.safetensors:   0%|          | 0.00/440M [00:00<?, ?B/s]"
      ]
     },
     "metadata": {},
     "output_type": "display_data"
    }
   ],
   "source": [
    "from transformers import AutoTokenizer, AutoModel\n",
    "\n",
    "tokenizer = AutoTokenizer.from_pretrained('bert-base-uncased')\n",
    "model = AutoModel.from_pretrained('bert-base-uncased', num_labels=2)\n",
    "device = torch.device('cuda:0' if torch.cuda.is_available() else 'cpu')\n",
    "model = model.to(device)"
   ]
  },
  {
   "cell_type": "markdown",
   "id": "e5b757a7-9fe8-4a32-bb0d-c95138e123ec",
   "metadata": {},
   "source": [
    "В токинайзере укажем параметр stride, чтобы не обрезать длинные тескты. После этого будем брать среднее скрытых слоев по каждому фрагменту, а из них брать максимальное значение. Такой эмбеддинг будет итоговый по каждому тексту."
   ]
  },
  {
   "cell_type": "code",
   "execution_count": 6,
   "id": "b8a11f24-fdc1-4562-969c-6636d01e1664",
   "metadata": {
    "execution": {
     "iopub.execute_input": "2025-08-17T08:23:24.819497Z",
     "iopub.status.busy": "2025-08-17T08:23:24.818848Z",
     "iopub.status.idle": "2025-08-17T08:23:39.774274Z",
     "shell.execute_reply": "2025-08-17T08:23:39.773647Z",
     "shell.execute_reply.started": "2025-08-17T08:23:24.819475Z"
    }
   },
   "outputs": [
    {
     "name": "stderr",
     "output_type": "stream",
     "text": [
      "100%|██████████| 95/95 [00:09<00:00,  9.93it/s]\n",
      "100%|██████████| 95/95 [00:05<00:00, 17.69it/s]\n"
     ]
    }
   ],
   "source": [
    "from tqdm import tqdm\n",
    "\n",
    "def get_embeddings(file):\n",
    "    file_embedd = []\n",
    "    for text in tqdm(file):\n",
    "        \n",
    "        tokens = tokenizer(\n",
    "                    text,\n",
    "                    padding=\"max_length\",\n",
    "                    truncation=True,\n",
    "                    max_length=512,\n",
    "                    stride=256,\n",
    "                    return_overflowing_tokens=True,\n",
    "                    return_tensors=\"pt\",)\n",
    "        \n",
    "        input_ids = tokens['input_ids']\n",
    "        attention_mask = tokens['attention_mask']\n",
    "        text_embedd = []\n",
    "        \n",
    "        model.eval()\n",
    "        with torch.no_grad():\n",
    "            for ids, mask in zip(input_ids, attention_mask):\n",
    "                ids = ids.unsqueeze(0).to(device)\n",
    "                mask = mask.unsqueeze(0).to(device)\n",
    "                output = model(input_ids=ids, attention_mask=mask)\n",
    "                last_hidden_state = output['last_hidden_state']\n",
    "                \n",
    "                mask = mask.unsqueeze(-1).expand(last_hidden_state.size())\n",
    "                masked_hidden = last_hidden_state * mask\n",
    "                summed = masked_hidden.sum(dim=1)\n",
    "                count = mask.sum(dim=1)\n",
    "                mean_vec = summed / count\n",
    "                text_embedd.append(mean_vec.cpu())\n",
    "                \n",
    "                #num = mask.sum(dim=1)-1\n",
    "                #text_embedd.append(last_hidden_state[0, num].cpu())\n",
    "\n",
    "        text_embedd, _ = torch.cat(text_embedd, dim=0).max(dim=0)\n",
    "        file_embedd.append(text_embedd)\n",
    "\n",
    "    return torch.stack(file_embedd)\n",
    "embeddings_1 = get_embeddings(train_texts['file_1'])\n",
    "embeddings_2 = get_embeddings(train_texts['file_2'])"
   ]
  },
  {
   "cell_type": "markdown",
   "id": "a8a90189-8b6c-4236-bca7-a8951096f250",
   "metadata": {},
   "source": [
    "Помимо двух представлений тестов сделаем еще два эмбеддинга. Один в виде разницы между ними, второй - произведения. На них обучим PCA из 32 компонент."
   ]
  },
  {
   "cell_type": "code",
   "execution_count": 7,
   "id": "6b0fd9a8-a51f-498e-86f8-930005446598",
   "metadata": {
    "execution": {
     "iopub.execute_input": "2025-08-17T08:23:46.552363Z",
     "iopub.status.busy": "2025-08-17T08:23:46.552081Z",
     "iopub.status.idle": "2025-08-17T08:23:47.010313Z",
     "shell.execute_reply": "2025-08-17T08:23:47.009629Z",
     "shell.execute_reply.started": "2025-08-17T08:23:46.552341Z"
    }
   },
   "outputs": [],
   "source": [
    "from sklearn.decomposition import PCA\n",
    "\n",
    "embeddings = np.hstack([embeddings_1, embeddings_2, embeddings_1-embeddings_2, embeddings_1*embeddings_2])\n",
    "pca = PCA(n_components=32, random_state=1)\n",
    "pca_train = pca.fit_transform(embeddings)"
   ]
  },
  {
   "cell_type": "code",
   "execution_count": 8,
   "id": "c2c22c23-9846-40d8-bfa8-9c93a0a0e51f",
   "metadata": {
    "execution": {
     "iopub.execute_input": "2025-08-17T08:23:49.399675Z",
     "iopub.status.busy": "2025-08-17T08:23:49.399108Z",
     "iopub.status.idle": "2025-08-17T08:26:08.502663Z",
     "shell.execute_reply": "2025-08-17T08:26:08.502054Z",
     "shell.execute_reply.started": "2025-08-17T08:23:49.399650Z"
    }
   },
   "outputs": [
    {
     "name": "stderr",
     "output_type": "stream",
     "text": [
      "100%|██████████| 1068/1068 [01:03<00:00, 16.94it/s]\n",
      "100%|██████████| 1068/1068 [01:16<00:00, 14.05it/s]\n"
     ]
    }
   ],
   "source": [
    "embeddings_1 = get_embeddings(test_texts['file_1'])\n",
    "embeddings_2 = get_embeddings(test_texts['file_2'])"
   ]
  },
  {
   "cell_type": "code",
   "execution_count": 10,
   "id": "92b857d7-5844-49e7-901d-aec4a8cec6b3",
   "metadata": {
    "execution": {
     "iopub.execute_input": "2025-08-17T08:30:06.499381Z",
     "iopub.status.busy": "2025-08-17T08:30:06.498703Z",
     "iopub.status.idle": "2025-08-17T08:30:06.520237Z",
     "shell.execute_reply": "2025-08-17T08:30:06.519629Z",
     "shell.execute_reply.started": "2025-08-17T08:30:06.499358Z"
    }
   },
   "outputs": [],
   "source": [
    "embeddings = np.hstack([embeddings_1, embeddings_2, embeddings_1-embeddings_2, embeddings_1*embeddings_2])\n",
    "pca_test = pca.transform(embeddings)"
   ]
  },
  {
   "cell_type": "markdown",
   "id": "86193dd4-112b-426b-bdc7-3e2714428039",
   "metadata": {},
   "source": [
    "Так можно визуализировать признаки, если сжать их еще до 2 компонент."
   ]
  },
  {
   "cell_type": "code",
   "execution_count": 11,
   "id": "e0d0b8eb-ecdb-4a9e-b73e-b90edc7f9603",
   "metadata": {
    "execution": {
     "iopub.execute_input": "2025-08-17T08:30:12.540731Z",
     "iopub.status.busy": "2025-08-17T08:30:12.540082Z",
     "iopub.status.idle": "2025-08-17T08:30:13.437268Z",
     "shell.execute_reply": "2025-08-17T08:30:13.436224Z",
     "shell.execute_reply.started": "2025-08-17T08:30:12.540708Z"
    }
   },
   "outputs": [
    {
     "data": {
      "text/plain": [
       "<Axes: xlabel='Tsne_1st_component', ylabel='Tsne_2nd_component'>"
      ]
     },
     "execution_count": 11,
     "metadata": {},
     "output_type": "execute_result"
    },
    {
     "data": {
      "image/png": "[encoded data removed]",
      "text/plain": [
       "<Figure size 1600x1000 with 1 Axes>"
      ]
     },
     "metadata": {},
     "output_type": "display_data"
    }
   ],
   "source": [
    "from sklearn.manifold import TSNE\n",
    "\n",
    "X_tsne = TSNE(n_components=2).fit_transform(pca_train)\n",
    "\n",
    "X_tsne = np.concatenate((X_tsne, train_texts['labels'].values.reshape(-1, 1)),\n",
    "                                   axis=1)\n",
    "\n",
    "X_tsne = pd.DataFrame(X_tsne, columns=['Tsne_1st_component',\n",
    "                                       'Tsne_2nd_component',\n",
    "                                       'SEGMENT'])\n",
    "\n",
    "fig = plt.figure()\n",
    "fig.set_size_inches(16, 10)\n",
    "    \n",
    "sns.scatterplot(data=X_tsne, x=\"Tsne_1st_component\", \n",
    "                y=\"Tsne_2nd_component\", \n",
    "                hue=\"SEGMENT\")"
   ]
  },
  {
   "cell_type": "markdown",
   "id": "37d1d9fa-9f71-4983-9728-086f226e0352",
   "metadata": {},
   "source": [
    "Подберем параметры для RandomForest, обучим и сделаем предсказание."
   ]
  },
  {
   "cell_type": "code",
   "execution_count": 14,
   "id": "39fc3b85-5eec-4f5a-9492-beb83dbf3281",
   "metadata": {
    "execution": {
     "iopub.execute_input": "2025-08-17T08:46:58.955766Z",
     "iopub.status.busy": "2025-08-17T08:46:58.955489Z",
     "iopub.status.idle": "2025-08-17T08:47:04.769575Z",
     "shell.execute_reply": "2025-08-17T08:47:04.768807Z",
     "shell.execute_reply.started": "2025-08-17T08:46:58.955746Z"
    }
   },
   "outputs": [
    {
     "name": "stdout",
     "output_type": "stream",
     "text": [
      "Best parameter (CV score=0.94737):\n"
     ]
    },
    {
     "data": {
      "text/plain": [
       "{'max_depth': 6, 'n_estimators': 100}"
      ]
     },
     "execution_count": 14,
     "metadata": {},
     "output_type": "execute_result"
    }
   ],
   "source": [
    "from sklearn.ensemble import RandomForestClassifier\n",
    "from sklearn.model_selection import GridSearchCV\n",
    "from sklearn.model_selection import StratifiedKFold\n",
    "\n",
    "param_grid = {\n",
    "    \"max_depth\": [i for i in range(3, 7)],\n",
    "    \"n_estimators\": [50, 70, 100]\n",
    "}\n",
    "cv = StratifiedKFold(n_splits=5, shuffle=True, random_state=1)\n",
    "\n",
    "forest = RandomForestClassifier(random_state=1)\n",
    "search = GridSearchCV(forest, param_grid, \n",
    "                      cv=cv, scoring='accuracy')\n",
    "\n",
    "search.fit(pca_train, train_texts['labels'])\n",
    "\n",
    "print(f\"Best parameter (CV score={search.best_score_:.5f}):\")\n",
    "search.best_params_"
   ]
  },
  {
   "cell_type": "code",
   "execution_count": 15,
   "id": "10f4a124-1654-4ef9-ac26-76899801e5bb",
   "metadata": {
    "execution": {
     "iopub.execute_input": "2025-08-17T08:47:26.774791Z",
     "iopub.status.busy": "2025-08-17T08:47:26.774510Z",
     "iopub.status.idle": "2025-08-17T08:47:26.917046Z",
     "shell.execute_reply": "2025-08-17T08:47:26.916560Z",
     "shell.execute_reply.started": "2025-08-17T08:47:26.774760Z"
    }
   },
   "outputs": [],
   "source": [
    "forest = RandomForestClassifier(max_depth=6, n_estimators=100, random_state=1)\n",
    "forest.fit(pca_train, train_texts['labels'])\n",
    "test_probs = forest.predict_proba(pca_test)[:, 1]"
   ]
  },
  {
   "cell_type": "code",
   "execution_count": 17,
   "id": "d4a85041-103b-4fc0-9451-e3eb1fb1e170",
   "metadata": {
    "execution": {
     "iopub.execute_input": "2025-08-17T08:48:05.157835Z",
     "iopub.status.busy": "2025-08-17T08:48:05.157166Z",
     "iopub.status.idle": "2025-08-17T08:48:05.166712Z",
     "shell.execute_reply": "2025-08-17T08:48:05.165987Z",
     "shell.execute_reply.started": "2025-08-17T08:48:05.157794Z"
    }
   },
   "outputs": [
    {
     "name": "stdout",
     "output_type": "stream",
     "text": [
      "   id  real_text_id\n",
      "0   0             2\n",
      "1   1             2\n",
      "2   2             1\n",
      "3   3             1\n",
      "4   4             2\n"
     ]
    }
   ],
   "source": [
    "real_id = np.where(test_probs >= 0.5, 1, 2)\n",
    "sub = pd.DataFrame(real_id, columns=[\"real_text_id\"])\n",
    "sub = sub.reset_index().rename(columns={'index': 'id'})\n",
    "\n",
    "sub.to_csv(\"preds.csv\", index=False)\n",
    "print(sub.head())"
   ]
  },
  {
   "cell_type": "code",
   "execution_count": null,
   "id": "09da3252-b44d-4e14-b3c6-aa433d426bfd",
   "metadata": {},
   "outputs": [],
   "source": []
  }
 ],
 "metadata": {
  "kaggle": {
   "accelerator": "none",
   "dataSources": [
    {
     "databundleVersionId": 12964783,
     "sourceId": 105874,
     "sourceType": "competition"
    },
    {
     "datasetId": 7846391,
     "sourceId": 12438924,
     "sourceType": "datasetVersion"
    }
   ],
   "dockerImageVersionId": 31040,
   "isGpuEnabled": false,
   "isInternetEnabled": true,
   "language": "python",
   "sourceType": "notebook"
  },
  "kernelspec": {
   "display_name": "Python 3 (ipykernel)",
   "language": "python",
   "name": "python3"
  },
  "language_info": {
   "codemirror_mode": {
    "name": "ipython",
    "version": 3
   },
   "file_extension": ".py",
   "mimetype": "text/x-python",
   "name": "python",
   "nbconvert_exporter": "python",
   "pygments_lexer": "ipython3",
   "version": "3.12.7"
  }
 },
 "nbformat": 4,
 "nbformat_minor": 5
}
